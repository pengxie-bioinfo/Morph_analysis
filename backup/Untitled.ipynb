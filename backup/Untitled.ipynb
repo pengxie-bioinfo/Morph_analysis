{
 "cells": [
  {
   "cell_type": "code",
   "execution_count": 62,
   "metadata": {},
   "outputs": [],
   "source": [
    "import numpy as np\n",
    "import pandas as pd\n",
    "import matplotlib.pyplot as plt\n",
    "import seaborn as sns\n"
   ]
  },
  {
   "cell_type": "code",
   "execution_count": 65,
   "metadata": {},
   "outputs": [],
   "source": [
    "qc = pd.read_excel(\"data/QC/17302_QC.xlsx\")\n",
    "\n",
    "celltypes = pd.DataFrame(qc['Type'])\n",
    "u_celltypes = sorted(list(set(celltypes['Type'])))\n",
    "\n",
    "my_pal = sns.husl_palette(len(u_celltypes), s=.7)\n",
    "lut = dict(zip(sorted(u_celltypes), my_pal))\n",
    "celltype_colors = celltypes['Type'].map(lut)\n",
    "\n",
    "qc_sort = qc.sort_values('Percentage_unconnected(%)', ascending=True)\n",
    "cur_x = 0\n",
    "for tp in u_celltypes:\n",
    "    qc_tp = qc_sort[qc_sort['Type']==tp]\n",
    "    plt.bar(cur_x+np.arange(len(qc_tp)), qc_tp['Percentage_unconnected(%)'], color=lut[tp], label=tp)\n",
    "    cur_x = cur_x+len(qc_tp)\n",
    "plt.xlabel(\"Samples\")\n",
    "plt.ylabel(\"Percentage_unconnected(%)\")\n",
    "plt.yscale(\"log\", nonposy='clip')\n",
    "plt.legend()"
   ]
  },
  {
   "cell_type": "code",
   "execution_count": 87,
   "metadata": {},
   "outputs": [
    {
     "data": {
      "text/plain": [
       "<matplotlib.patches.Rectangle at 0x11d9c89e8>"
      ]
     },
     "execution_count": 87,
     "metadata": {},
     "output_type": "execute_result"
    },
    {
     "data": {
      "image/png": "[encoded data removed]",
      "text/plain": [
       "<matplotlib.figure.Figure at 0x1a22e88f28>"
      ]
     },
     "metadata": {},
     "output_type": "display_data"
    }
   ],
   "source": [
    "fig, ax = plt.subplots()\n",
    "# colors\n",
    "u_celltypes = sorted(list(set(celltypes['Type'])))\n",
    "my_pal = sns.husl_palette(len(u_celltypes), s=.7)\n",
    "lut = dict(zip(sorted(u_celltypes), my_pal))\n",
    "\n",
    "# plot\n",
    "bars = ax.bar(range(len(ydata)), ydata)\n",
    "plt.xticks(np.arange(n), np.arange(n)+10)\n",
    "bars.patches[0]"
   ]
  },
  {
   "cell_type": "code",
   "execution_count": 86,
   "metadata": {},
   "outputs": [],
   "source": [
    "plt.xticks?"
   ]
  },
  {
   "cell_type": "code",
   "execution_count": null,
   "metadata": {},
   "outputs": [],
   "source": []
  }
 ],
 "metadata": {
  "kernelspec": {
   "display_name": "Python 3",
   "language": "python",
   "name": "python3"
  },
  "language_info": {
   "codemirror_mode": {
    "name": "ipython",
    "version": 3
   },
   "file_extension": ".py",
   "mimetype": "text/x-python",
   "name": "python",
   "nbconvert_exporter": "python",
   "pygments_lexer": "ipython3",
   "version": "3.6.4"
  }
 },
 "nbformat": 4,
 "nbformat_minor": 2
}
