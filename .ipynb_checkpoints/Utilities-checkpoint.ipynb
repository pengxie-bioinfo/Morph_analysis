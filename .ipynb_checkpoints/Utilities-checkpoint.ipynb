{
 "cells": [
  {
   "cell_type": "code",
   "execution_count": 1,
   "metadata": {},
   "outputs": [],
   "source": [
    "import numpy as np\n",
    "import pandas as pd\n",
    "import matplotlib.pyplot as plt\n",
    "from sklearn.decomposition import PCA, RandomizedPCA\n",
    "from sklearn.preprocessing import scale\n",
    "from sklearn.manifold import Isomap, TSNE\n",
    "from sklearn.cluster import KMeans\n",
    "%matplotlib inline"
   ]
  },
  {
   "cell_type": "code",
   "execution_count": 2,
   "metadata": {},
   "outputs": [],
   "source": [
    "def load_features(file_names, drop_attr=[]):\n",
    "    df_list = []\n",
    "    for file in file_names:\n",
    "        df = pd.read_csv(file, index_col=[0], header=[0], delimiter=\"\\t\", skiprows=[1])\n",
    "        df = df.dropna(axis=1, how='any').transpose()\n",
    "        df = df.iloc[:,6:]\n",
    "        df = df.drop(drop_attr, axis=1)\n",
    "        df_list.append(df)\n",
    "    return(df_list)\n",
    "\n",
    "def feature_hist(df, ncol=4, len_single_plot = 5):\n",
    "    n = df.shape[1]\n",
    "    if((n % ncol)==0):\n",
    "        nrow = int(n / ncol)\n",
    "    else:\n",
    "        nrow = int(n / ncol + 1)\n",
    "        \n",
    "    print(nrow, ncol)\n",
    "    fig, ax = plt.subplots(nrow, ncol, figsize=(len_single_plot*ncol, len_single_plot*nrow))\n",
    "    ax = ax.reshape(-1,)\n",
    "    for i in range(n):\n",
    "        ax[i].hist(df.iloc[:,i], label = df.columns[i])\n",
    "        ax[i].legend()\n",
    "    return\n",
    "\n",
    "\n",
    "def feature_hist_compare(df_list, df_names, ncol=4, len_single_plot = 5):\n",
    "    n = df_list[0].shape[1]\n",
    "    featuer_names = df_list[0].columns.tolist()\n",
    "    assert all([df.shape[1]==n for df in df_list])\n",
    "    assert len(df_list) == len(df_names)\n",
    "    if((n % ncol)==0):\n",
    "        nrow = int(n / ncol)\n",
    "    else:\n",
    "        nrow = int(n / ncol + 1)\n",
    "        \n",
    "    print(nrow, ncol)\n",
    "    fig, ax = plt.subplots(nrow, ncol, figsize=(len_single_plot*ncol, len_single_plot*nrow))\n",
    "    ax = ax.reshape(-1,)\n",
    "    for i in range(n):\n",
    "        ax[i].set_title(featuer_names[i])\n",
    "        for j in range(len(df_list)):\n",
    "            df = df_list[j]\n",
    "            ax[i].hist(df.iloc[:,i], histtype='step', normed=True, label=df_names[j])\n",
    "        ax[i].legend()\n",
    "    return"
   ]
  },
  {
   "cell_type": "code",
   "execution_count": null,
   "metadata": {},
   "outputs": [],
   "source": []
  }
 ],
 "metadata": {
  "kernelspec": {
   "display_name": "Python 3",
   "language": "python",
   "name": "python3"
  },
  "language_info": {
   "codemirror_mode": {
    "name": "ipython",
    "version": 3
   },
   "file_extension": ".py",
   "mimetype": "text/x-python",
   "name": "python",
   "nbconvert_exporter": "python",
   "pygments_lexer": "ipython3",
   "version": "3.6.4"
  }
 },
 "nbformat": 4,
 "nbformat_minor": 2
}
