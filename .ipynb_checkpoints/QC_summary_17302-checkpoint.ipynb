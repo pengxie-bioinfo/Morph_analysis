{
 "cells": [
  {
   "cell_type": "code",
   "execution_count": 1,
   "metadata": {},
   "outputs": [],
   "source": [
    "import numpy as np\n",
    "import pandas as pd\n",
    "import matplotlib.pyplot as plt\n",
    "from sklearn.decomposition import PCA, RandomizedPCA\n",
    "from sklearn.preprocessing import scale\n",
    "from sklearn.manifold import Isomap, TSNE\n",
    "from sklearn.cluster import KMeans\n",
    "import seaborn as sns\n",
    "from utilities import *\n",
    "from scipy.cluster.hierarchy import linkage, dendrogram, fcluster\n",
    "from scipy.spatial.distance import pdist, squareform\n",
    "\n",
    "%matplotlib inline\n",
    "%load_ext autoreload\n",
    "%autoreload 2"
   ]
  },
  {
   "cell_type": "code",
   "execution_count": 2,
   "metadata": {},
   "outputs": [],
   "source": [
    "qc = load_features_as_one(['data/QC/17302_CPU.QC.txt',\n",
    "                          'data/QC/17302_LGN.QC.txt',\n",
    "                          'data/QC/17302_Thalamuscells.QC.txt',\n",
    "#                           'data/QC/17302_Lateral_Amygdala.QC.txt',\n",
    "#                           'data/QC/17302_OlfactoryBulb.QC.txt',\n",
    "                          ])\n",
    "qc = qc.rename({\"Percentage_lost(%)\":\"Percentage_unconnected(%)\"}, axis='columns')\n",
    "qc['Type'] = pd.Categorical(qc['Type'])\n"
   ]
  },
  {
   "cell_type": "code",
   "execution_count": 3,
   "metadata": {},
   "outputs": [],
   "source": [
    "celltypes = pd.DataFrame(qc['Type'])\n",
    "u_celltypes = sorted(list(set(celltypes['Type'])))\n",
    "\n",
    "my_pal = sns.husl_palette(len(u_celltypes), s=.7)\n",
    "lut = dict(zip(sorted(u_celltypes), my_pal))\n",
    "celltype_colors = celltypes['Type'].map(lut)"
   ]
  },
  {
   "cell_type": "code",
   "execution_count": 4,
   "metadata": {},
   "outputs": [
    {
     "data": {
      "image/png": "[encoded data removed]",
      "text/plain": [
       "<matplotlib.figure.Figure at 0x1a0f7587f0>"
      ]
     },
     "metadata": {},
     "output_type": "display_data"
    }
   ],
   "source": [
    "_ = sns.countplot(y=\"Type\", palette=my_pal, data=qc)"
   ]
  },
  {
   "cell_type": "code",
   "execution_count": 5,
   "metadata": {},
   "outputs": [
    {
     "data": {
      "image/png": "[encoded data removed]",
      "text/plain": [
       "<matplotlib.figure.Figure at 0x1a0f927320>"
      ]
     },
     "metadata": {},
     "output_type": "display_data"
    }
   ],
   "source": [
    "qc_sort = qc.sort_values('Percentage_unconnected(%)', ascending=True)\n",
    "cur_x = 0\n",
    "for tp in u_celltypes:\n",
    "    qc_tp = qc_sort[qc_sort['Type']==tp]\n",
    "    plt.bar(cur_x+np.arange(len(qc_tp)), qc_tp['Percentage_unconnected(%)'], color=lut[tp], label=tp)\n",
    "    cur_x = cur_x+len(qc_tp)\n",
    "plt.xlabel(\"Samples\")\n",
    "plt.ylabel(\"Percentage_unconnected(%)\")\n",
    "plt.yscale(\"log\", nonposy='clip')\n",
    "plt.legend()\n",
    "plt.savefig('Figure/QC.Percentage_unconnected.pdf')\n",
    "qc_sort.sort_values('Percentage_unconnected(%)', ascending=False).to_excel(\"data/QC/17302_QC.xlsx\")"
   ]
  },
  {
   "cell_type": "code",
   "execution_count": 7,
   "metadata": {},
   "outputs": [],
   "source": [
    "qc_sort.sort_values('Percentage_unconnected(%)', ascending=False).to_excel(\"data/QC/17302_QC.xlsx\")"
   ]
  }
 ],
 "metadata": {
  "kernelspec": {
   "display_name": "Python 3",
   "language": "python",
   "name": "python3"
  },
  "language_info": {
   "codemirror_mode": {
    "name": "ipython",
    "version": 3
   },
   "file_extension": ".py",
   "mimetype": "text/x-python",
   "name": "python",
   "nbconvert_exporter": "python",
   "pygments_lexer": "ipython3",
   "version": "3.6.4"
  }
 },
 "nbformat": 4,
 "nbformat_minor": 2
}
