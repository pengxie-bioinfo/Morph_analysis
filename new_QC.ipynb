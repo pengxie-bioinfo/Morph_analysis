{
 "cells": [
  {
   "cell_type": "code",
   "execution_count": 1,
   "metadata": {},
   "outputs": [],
   "source": [
    "import numpy as np\n",
    "import pandas as pd\n",
    "import matplotlib.pyplot as plt\n",
    "from sklearn.decomposition import PCA, RandomizedPCA\n",
    "from sklearn.preprocessing import scale\n",
    "from sklearn.manifold import Isomap, TSNE\n",
    "from sklearn.cluster import KMeans\n",
    "from sklearn.neighbors import KernelDensity\n",
    "from scipy.stats import binned_statistic\n",
    "import seaborn as sns\n",
    "from utilities import *\n",
    "\n",
    "%matplotlib inline\n",
    "%load_ext autoreload\n",
    "%autoreload 2"
   ]
  },
  {
   "cell_type": "code",
   "execution_count": 18,
   "metadata": {},
   "outputs": [
    {
     "data": {
      "text/plain": [
       "(10, 19)"
      ]
     },
     "execution_count": 18,
     "metadata": {},
     "output_type": "execute_result"
    }
   ],
   "source": [
    "qc_old = pd.read_excel(\"Table/0829/Global_features.ddt.xlsx\")\n",
    "qc_old = qc_old.loc[qc_old[\"Type\"]==\"LGN\"]\n",
    "qc_old.shape"
   ]
  },
  {
   "cell_type": "code",
   "execution_count": 19,
   "metadata": {},
   "outputs": [
    {
     "data": {
      "text/plain": [
       "(14, 19)"
      ]
     },
     "execution_count": 19,
     "metadata": {},
     "output_type": "execute_result"
    }
   ],
   "source": [
    "qc_new = pd.read_excel(\"Table/Global_features.ddt.xlsx\")\n",
    "qc_new = qc_new.loc[qc_new[\"Type\"]==\"LGN\"]\n",
    "qc_new.shape"
   ]
  },
  {
   "cell_type": "code",
   "execution_count": 10,
   "metadata": {},
   "outputs": [
    {
     "data": {
      "text/html": [
       "<div>\n",
       "<style scoped>\n",
       "    .dataframe tbody tr th:only-of-type {\n",
       "        vertical-align: middle;\n",
       "    }\n",
       "\n",
       "    .dataframe tbody tr th {\n",
       "        vertical-align: top;\n",
       "    }\n",
       "\n",
       "    .dataframe thead th {\n",
       "        text-align: right;\n",
       "    }\n",
       "</style>\n",
       "<table border=\"1\" class=\"dataframe\">\n",
       "  <thead>\n",
       "    <tr style=\"text-align: right;\">\n",
       "      <th></th>\n",
       "      <th>Type</th>\n",
       "      <th>Number of Nodes</th>\n",
       "      <th>Number of Stems</th>\n",
       "      <th>Number of Bifurcatons</th>\n",
       "      <th>Number of Branches</th>\n",
       "      <th>Number of Tips</th>\n",
       "      <th>Overall Width</th>\n",
       "      <th>Overall Height</th>\n",
       "      <th>Overall Depth</th>\n",
       "      <th>Total Length</th>\n",
       "      <th>Max Euclidean Distance</th>\n",
       "      <th>Max Path Distance</th>\n",
       "      <th>Max Branch Order</th>\n",
       "      <th>Average Contraction</th>\n",
       "      <th>Average Fragmentation</th>\n",
       "      <th>Average Parent-daughter Ratio</th>\n",
       "      <th>Average Bifurcation Angle Local</th>\n",
       "      <th>Average Bifurcation Angle Remote</th>\n",
       "      <th>Hausdorff Dimension</th>\n",
       "    </tr>\n",
       "  </thead>\n",
       "  <tbody>\n",
       "    <tr>\n",
       "      <th>1.0</th>\n",
       "      <td>CPU</td>\n",
       "      <td>2653</td>\n",
       "      <td>7</td>\n",
       "      <td>49</td>\n",
       "      <td>104</td>\n",
       "      <td>56</td>\n",
       "      <td>866.0</td>\n",
       "      <td>661.199</td>\n",
       "      <td>184.60</td>\n",
       "      <td>8213.77</td>\n",
       "      <td>482.834</td>\n",
       "      <td>538.646</td>\n",
       "      <td>9</td>\n",
       "      <td>0.887931</td>\n",
       "      <td>24.5000</td>\n",
       "      <td>0.960893</td>\n",
       "      <td>78.3456</td>\n",
       "      <td>74.7247</td>\n",
       "      <td>1.09088</td>\n",
       "    </tr>\n",
       "    <tr>\n",
       "      <th>1.1</th>\n",
       "      <td>CPU</td>\n",
       "      <td>1793</td>\n",
       "      <td>6</td>\n",
       "      <td>21</td>\n",
       "      <td>46</td>\n",
       "      <td>26</td>\n",
       "      <td>697.0</td>\n",
       "      <td>617.300</td>\n",
       "      <td>184.60</td>\n",
       "      <td>5415.26</td>\n",
       "      <td>420.823</td>\n",
       "      <td>536.081</td>\n",
       "      <td>5</td>\n",
       "      <td>0.843895</td>\n",
       "      <td>37.9565</td>\n",
       "      <td>0.960280</td>\n",
       "      <td>71.2609</td>\n",
       "      <td>75.1419</td>\n",
       "      <td>1.08516</td>\n",
       "    </tr>\n",
       "    <tr>\n",
       "      <th>1.2</th>\n",
       "      <td>CPU</td>\n",
       "      <td>1793</td>\n",
       "      <td>6</td>\n",
       "      <td>21</td>\n",
       "      <td>46</td>\n",
       "      <td>26</td>\n",
       "      <td>697.0</td>\n",
       "      <td>617.300</td>\n",
       "      <td>184.60</td>\n",
       "      <td>5415.26</td>\n",
       "      <td>420.823</td>\n",
       "      <td>536.081</td>\n",
       "      <td>5</td>\n",
       "      <td>0.843895</td>\n",
       "      <td>37.9565</td>\n",
       "      <td>0.960280</td>\n",
       "      <td>71.2609</td>\n",
       "      <td>75.1419</td>\n",
       "      <td>1.08516</td>\n",
       "    </tr>\n",
       "    <tr>\n",
       "      <th>2.0</th>\n",
       "      <td>CPU</td>\n",
       "      <td>2376</td>\n",
       "      <td>3</td>\n",
       "      <td>39</td>\n",
       "      <td>80</td>\n",
       "      <td>42</td>\n",
       "      <td>912.0</td>\n",
       "      <td>731.000</td>\n",
       "      <td>164.00</td>\n",
       "      <td>8829.36</td>\n",
       "      <td>501.402</td>\n",
       "      <td>548.597</td>\n",
       "      <td>8</td>\n",
       "      <td>0.908685</td>\n",
       "      <td>28.6875</td>\n",
       "      <td>1.035790</td>\n",
       "      <td>74.5265</td>\n",
       "      <td>67.3486</td>\n",
       "      <td>1.10188</td>\n",
       "    </tr>\n",
       "    <tr>\n",
       "      <th>3.0</th>\n",
       "      <td>CPU</td>\n",
       "      <td>1937</td>\n",
       "      <td>6</td>\n",
       "      <td>42</td>\n",
       "      <td>88</td>\n",
       "      <td>48</td>\n",
       "      <td>905.5</td>\n",
       "      <td>630.000</td>\n",
       "      <td>190.32</td>\n",
       "      <td>9111.30</td>\n",
       "      <td>496.907</td>\n",
       "      <td>560.968</td>\n",
       "      <td>6</td>\n",
       "      <td>0.897432</td>\n",
       "      <td>20.9886</td>\n",
       "      <td>0.860880</td>\n",
       "      <td>81.3722</td>\n",
       "      <td>74.3048</td>\n",
       "      <td>1.17531</td>\n",
       "    </tr>\n",
       "  </tbody>\n",
       "</table>\n",
       "</div>"
      ],
      "text/plain": [
       "    Type  Number of Nodes  Number of Stems  Number of Bifurcatons  \\\n",
       "1.0  CPU             2653                7                     49   \n",
       "1.1  CPU             1793                6                     21   \n",
       "1.2  CPU             1793                6                     21   \n",
       "2.0  CPU             2376                3                     39   \n",
       "3.0  CPU             1937                6                     42   \n",
       "\n",
       "     Number of Branches  Number of Tips  Overall Width  Overall Height  \\\n",
       "1.0                 104              56          866.0         661.199   \n",
       "1.1                  46              26          697.0         617.300   \n",
       "1.2                  46              26          697.0         617.300   \n",
       "2.0                  80              42          912.0         731.000   \n",
       "3.0                  88              48          905.5         630.000   \n",
       "\n",
       "     Overall Depth  Total Length  Max Euclidean Distance  Max Path Distance  \\\n",
       "1.0         184.60       8213.77                 482.834            538.646   \n",
       "1.1         184.60       5415.26                 420.823            536.081   \n",
       "1.2         184.60       5415.26                 420.823            536.081   \n",
       "2.0         164.00       8829.36                 501.402            548.597   \n",
       "3.0         190.32       9111.30                 496.907            560.968   \n",
       "\n",
       "     Max Branch Order  Average Contraction  Average Fragmentation  \\\n",
       "1.0                 9             0.887931                24.5000   \n",
       "1.1                 5             0.843895                37.9565   \n",
       "1.2                 5             0.843895                37.9565   \n",
       "2.0                 8             0.908685                28.6875   \n",
       "3.0                 6             0.897432                20.9886   \n",
       "\n",
       "     Average Parent-daughter Ratio  Average Bifurcation Angle Local  \\\n",
       "1.0                       0.960893                          78.3456   \n",
       "1.1                       0.960280                          71.2609   \n",
       "1.2                       0.960280                          71.2609   \n",
       "2.0                       1.035790                          74.5265   \n",
       "3.0                       0.860880                          81.3722   \n",
       "\n",
       "     Average Bifurcation Angle Remote  Hausdorff Dimension  \n",
       "1.0                           74.7247              1.09088  \n",
       "1.1                           75.1419              1.08516  \n",
       "1.2                           75.1419              1.08516  \n",
       "2.0                           67.3486              1.10188  \n",
       "3.0                           74.3048              1.17531  "
      ]
     },
     "execution_count": 10,
     "metadata": {},
     "output_type": "execute_result"
    }
   ],
   "source": [
    "qc_new.head()"
   ]
  },
  {
   "cell_type": "code",
   "execution_count": 23,
   "metadata": {},
   "outputs": [
    {
     "data": {
      "text/plain": [
       "Text(0,0.5,'Cumulative distribution')"
      ]
     },
     "execution_count": 23,
     "metadata": {},
     "output_type": "execute_result"
    },
    {
     "data": {
      "image/png": "[encoded data removed]",
      "text/plain": [
       "<matplotlib.figure.Figure at 0x1a108b7630>"
      ]
     },
     "metadata": {},
     "output_type": "display_data"
    }
   ],
   "source": [
    "plt.hist(qc_old[\"Number of Stems\"], cumulative=True, histtype='step', label='Old')\n",
    "plt.hist(qc_new[\"Number of Stems\"], cumulative=True, histtype='step', label='New')\n",
    "plt.legend()\n",
    "plt.xlabel(\"Number of Stems\")\n",
    "plt.ylabel(\"Cumulative distribution\")"
   ]
  }
 ],
 "metadata": {
  "kernelspec": {
   "display_name": "Python 3",
   "language": "python",
   "name": "python3"
  },
  "language_info": {
   "codemirror_mode": {
    "name": "ipython",
    "version": 3
   },
   "file_extension": ".py",
   "mimetype": "text/x-python",
   "name": "python",
   "nbconvert_exporter": "python",
   "pygments_lexer": "ipython3",
   "version": "3.6.4"
  }
 },
 "nbformat": 4,
 "nbformat_minor": 2
}
