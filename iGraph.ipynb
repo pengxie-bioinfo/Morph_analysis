{
 "cells": [
  {
   "cell_type": "code",
   "execution_count": 1,
   "metadata": {},
   "outputs": [],
   "source": [
    "import igraph\n",
    "import numpy as np\n",
    "import pandas as pd\n",
    "import matplotlib.pyplot as plt\n",
    "from sklearn.neighbors import NearestNeighbors\n",
    "\n",
    "%matplotlib inline"
   ]
  },
  {
   "cell_type": "code",
   "execution_count": 2,
   "metadata": {},
   "outputs": [],
   "source": [
    "def match1d(query, target):\n",
    "    if(set(query).issubset(set(target))):\n",
    "        result = []\n",
    "        for i in range(len(query)):\n",
    "            result.append(np.argwhere(target==query[i])[0,0])\n",
    "        return(np.array(result))\n",
    "    else:\n",
    "        print(\"Query should be a subset of target!\")\n",
    "        return\n",
    "\n",
    "def SNN(x, k=3):\n",
    "    '''\n",
    "    x: n x m matrix, n is #sample, m is #feature\n",
    "    '''\n",
    "    n, m = x.shape\n",
    "    \n",
    "    # Find a ranklist of neighbors for each sample\n",
    "    print('Create KNN matrix...')\n",
    "    knn = NearestNeighbors(n_neighbors=n)\n",
    "    knn.fit(x)\n",
    "    A = knn.kneighbors_graph(x, mode='distance')\n",
    "    A = A.toarray()\n",
    "    A_rank = A\n",
    "    for i in range(n):\n",
    "        A_rank[i,:] = np.argsort(A[i,:])\n",
    "    A_rank = np.array(A_rank, dtype='int')\n",
    "    A_knn = A_rank[:,:k]\n",
    "    \n",
    "    # Create weighted edges between samples\n",
    "    print('Generate edges...')\n",
    "    edge = []\n",
    "    for i in range(n):\n",
    "        for j in range(i+1,n):\n",
    "            shared = set(A_knn[i,:]).intersection(set(A_knn[j,:]))\n",
    "            shared = np.array(list(shared))\n",
    "#             shared = np.intersect1d(A_knn[i,:], A_knn[j,:])\n",
    "\n",
    "        \n",
    "    \n",
    "            if(len(shared) > 0): # When i and j have shared knn\n",
    "                strength = k - (match1d(shared, A_knn[i,:]) + match1d(shared, A_knn[j, :]) + 2)/2\n",
    "                strength = max(strength)\n",
    "                if(strength>0):\n",
    "                    edge = edge + [i+1, j+1, strength]\n",
    "            \n",
    "    edge = np.array(edge).reshape(-1, 3)\n",
    "    return(edge)"
   ]
  },
  {
   "cell_type": "code",
   "execution_count": 3,
   "metadata": {},
   "outputs": [],
   "source": [
    "\n",
    "x1 = np.random.randn(100,2)*2-10\n",
    "x2 = np.random.randn(100,2)+10\n",
    "x3 = np.random.randn(100,2)+15\n",
    "\n",
    "X = np.append(x1, x2, axis=0)\n",
    "X = np.append(X, x3, axis=0)\n",
    "y = [0]*len(x1)+[1]*len(x2)+[2]*len(x3)\n",
    "\n"
   ]
  },
  {
   "cell_type": "code",
   "execution_count": 7,
   "metadata": {},
   "outputs": [],
   "source": [
    "'''\n",
    "Create graph\n",
    "'''\n",
    "\n",
    "edge = SNN(X, 20)\n",
    "membership = dict()\n",
    "\n",
    "g = igraph.Graph()\n",
    "# in order to add edges, we have to add all the vertices first\n",
    "#iterate through edges and put all the vertices in a list\n",
    "vertex = []\n",
    "edge_list = [(int(edge[i,0])-1, int(edge[i,1])-1) for i in range(len(edge))]\n",
    "for e in edge_list:\n",
    "    vertex.extend(e)\n",
    "g.add_vertices(list(set(vertex))) # add a list of unique vertices to the graph\n",
    "g.add_edges(edge_list) # add the edges to the graph. \n",
    "g.es['weights'] = edge[:,2]\n",
    "\n"
   ]
  },
  {
   "cell_type": "code",
   "execution_count": 11,
   "metadata": {},
   "outputs": [
    {
     "data": {
      "text/plain": [
       "<matplotlib.collections.PathCollection at 0x1a1ca54dd8>"
      ]
     },
     "execution_count": 11,
     "metadata": {},
     "output_type": "execute_result"
    },
    {
     "data": {
      "image/png": "[encoded data removed]",
      "text/plain": [
       "<matplotlib.figure.Figure at 0x1a1bfebe80>"
      ]
     },
     "metadata": {},
     "output_type": "display_data"
    }
   ],
   "source": [
    "cls = g.community_fastgreedy(weights='weights')\n",
    "membership['FastGreedy'] = cls.as_clustering().membership\n",
    "plt.scatter(X[:,0], X[:,1], c=membership['FastGreedy'])"
   ]
  },
  {
   "cell_type": "code",
   "execution_count": null,
   "metadata": {},
   "outputs": [],
   "source": []
  }
 ],
 "metadata": {
  "kernelspec": {
   "display_name": "Python 3",
   "language": "python",
   "name": "python3"
  },
  "language_info": {
   "codemirror_mode": {
    "name": "ipython",
    "version": 3
   },
   "file_extension": ".py",
   "mimetype": "text/x-python",
   "name": "python",
   "nbconvert_exporter": "python",
   "pygments_lexer": "ipython3",
   "version": "3.6.4"
  }
 },
 "nbformat": 4,
 "nbformat_minor": 2
}
