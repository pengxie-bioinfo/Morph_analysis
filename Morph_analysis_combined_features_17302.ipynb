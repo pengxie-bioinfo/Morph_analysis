{
 "cells": [
  {
   "cell_type": "code",
   "execution_count": 7,
   "metadata": {},
   "outputs": [
    {
     "name": "stdout",
     "output_type": "stream",
     "text": [
      "The autoreload extension is already loaded. To reload it, use:\n",
      "  %reload_ext autoreload\n"
     ]
    }
   ],
   "source": [
    "import numpy as np\n",
    "import pandas as pd\n",
    "import matplotlib.pyplot as plt\n",
    "from sklearn.decomposition import PCA, RandomizedPCA\n",
    "from sklearn.preprocessing import scale\n",
    "from sklearn.manifold import Isomap, TSNE\n",
    "from sklearn.cluster import KMeans\n",
    "import seaborn as sns\n",
    "from utilities import *\n",
    "from scipy.cluster.hierarchy import linkage, dendrogram, fcluster\n",
    "from scipy.spatial.distance import pdist, squareform\n",
    "import pickle\n",
    "\n",
    "%matplotlib inline\n",
    "%load_ext autoreload\n",
    "%autoreload 2"
   ]
  },
  {
   "cell_type": "code",
   "execution_count": 2,
   "metadata": {},
   "outputs": [
    {
     "name": "stdout",
     "output_type": "stream",
     "text": [
      "74\n"
     ]
    }
   ],
   "source": [
    "qc = load_features_as_one(['data/QC/17302_CPU.QC.txt',\n",
    "                          'data/QC/17302_LGN.QC.txt',\n",
    "                          'data/QC/17302_Thalamuscells.QC.txt',\n",
    "#                           'data/QC/17302_Lateral_Amygdala.QC.txt',\n",
    "#                           'data/QC/17302_OlfactoryBulb.QC.txt',\n",
    "                          ])\n",
    "qc = qc.rename({\"Percentage_lost(%)\":\"Percentage_unconnected(%)\"}, axis='columns')\n",
    "qc['Type'] = pd.Categorical(qc['Type'])\n",
    "\n",
    "# Assign colors\n",
    "celltypes = pd.DataFrame(qc['Type'])\n",
    "u_celltypes = sorted(list(set(celltypes['Type'])))\n",
    "\n",
    "my_pal = ['C'+str(i) for i in range(len(u_celltypes))]\n",
    "lut = dict(zip(sorted(u_celltypes), my_pal))\n",
    "colors = []\n",
    "for tp in celltypes['Type'].tolist():\n",
    "    colors.append(lut[tp])\n",
    "\n",
    "# Select samples\n",
    "sample_id = []\n",
    "for i in range(len(qc)):\n",
    "    tp_name = qc.index.tolist()[i]\n",
    "    if((tp_name.find(\".\")<0) & (qc.loc[tp_name, \"Percentage_unconnected(%)\"]<5)):\n",
    "        sample_id.append(tp_name)\n",
    "print(len(sample_id))"
   ]
  },
  {
   "cell_type": "code",
   "execution_count": 3,
   "metadata": {},
   "outputs": [
    {
     "name": "stdout",
     "output_type": "stream",
     "text": [
      "72\n"
     ]
    },
    {
     "data": {
      "image/png": "[encoded data removed]",
      "text/plain": [
       "<matplotlib.figure.Figure at 0x118456860>"
      ]
     },
     "metadata": {},
     "output_type": "display_data"
    }
   ],
   "source": [
    "ddt = load_features_as_one(['data/features/17302_CPU.dendrite.features',\n",
    "                          'data/features/17302_LGN.dendrite.features',\n",
    "                          'data/features/17302_Thalamuscells.dendrite.features',\n",
    "                           ],\n",
    "                          drop_attr=['Soma Surface', 'Average Diameter', 'Total Volume', 'Total Surface'])\n",
    "\n",
    "# Filter data\n",
    "_ = plt.bar(range(len(ddt)), sorted(ddt['Number of Nodes']), )\n",
    "plt.xlabel(\"Number of cells\")\n",
    "plt.ylabel(\"Number of Nodes\")\n",
    "plt.axhline(1000, c='grey', lw=1, linestyle='dashed')\n",
    "\n",
    "sample_id = [sample_id[i] for i,j in enumerate(sample_id) if j in ddt.index.tolist()]\n",
    "sample_id = [sample_id[i] for i,j in enumerate(sample_id) if ddt.loc[j, \"Number of Nodes\"]>1000]\n",
    "print(len(sample_id))"
   ]
  },
  {
   "cell_type": "code",
   "execution_count": 4,
   "metadata": {},
   "outputs": [
    {
     "name": "stdout",
     "output_type": "stream",
     "text": [
      "70\n"
     ]
    },
    {
     "data": {
      "image/png": "[encoded data removed]",
      "text/plain": [
       "<matplotlib.figure.Figure at 0x1a21eb9da0>"
      ]
     },
     "metadata": {},
     "output_type": "display_data"
    }
   ],
   "source": [
    "lpa = load_features_as_one(['data/features/17302_CPU.long_axon.features',\n",
    "                          'data/features/17302_LGN.long_axon.features',\n",
    "                          'data/features/17302_Thalamuscells.long_axon.features',\n",
    "                           ])\n",
    "\n",
    "\n",
    "# Filter data\n",
    "_ = plt.bar(range(len(lpa)), sorted(lpa['Number of Nodes']), )\n",
    "plt.xlabel(\"Number of cells\")\n",
    "plt.ylabel(\"Number of Nodes\")\n",
    "plt.axhline(1000, c='grey', lw=1, linestyle='dashed')\n",
    "\n",
    "sample_id = [sample_id[i] for i,j in enumerate(sample_id) if j in lpa.index.tolist()]\n",
    "sample_id = [sample_id[i] for i,j in enumerate(sample_id) if lpa.loc[j, \"Number of Nodes\"]>1000]\n",
    "print(len(sample_id))"
   ]
  },
  {
   "cell_type": "code",
   "execution_count": 9,
   "metadata": {},
   "outputs": [
    {
     "data": {
      "image/png": "[encoded data removed]",
      "text/plain": [
       "<matplotlib.figure.Figure at 0x1a227408d0>"
      ]
     },
     "metadata": {},
     "output_type": "display_data"
    }
   ],
   "source": [
    "qc_sel = qc.loc[sample_id]\n",
    "ddt_sel = ddt.loc[sample_id]\n",
    "lpa_sel = lpa.loc[sample_id]\n",
    "_ = sns.countplot(y=\"Type\", palette=my_pal, data=qc_sel)\n",
    "\n",
    "pickle.dump([qc_sel, ddt_sel, lpa_sel, sample_id], open(\"data/link/17302_features.pickle\", 'wb'))"
   ]
  }
 ],
 "metadata": {
  "kernelspec": {
   "display_name": "Python 3",
   "language": "python",
   "name": "python3"
  },
  "language_info": {
   "codemirror_mode": {
    "name": "ipython",
    "version": 3
   },
   "file_extension": ".py",
   "mimetype": "text/x-python",
   "name": "python",
   "nbconvert_exporter": "python",
   "pygments_lexer": "ipython3",
   "version": "3.6.4"
  }
 },
 "nbformat": 4,
 "nbformat_minor": 2
}
